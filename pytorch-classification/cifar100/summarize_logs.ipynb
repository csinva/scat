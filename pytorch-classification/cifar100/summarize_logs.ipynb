{
 "cells": [
  {
   "cell_type": "code",
   "execution_count": 41,
   "metadata": {},
   "outputs": [],
   "source": [
    "import numpy as np\n",
    "import os, sys, time, subprocess, h5py, argparse, logging, pickle, random\n",
    "from os.path import join as oj\n",
    "import pandas as pd\n",
    "import matplotlib\n",
    "matplotlib.use('agg')\n",
    "import matplotlib.pyplot as plt\n",
    "%matplotlib inline\n",
    "import seaborn as sns"
   ]
  },
  {
   "cell_type": "code",
   "execution_count": 55,
   "metadata": {},
   "outputs": [
    {
     "name": "stdout",
     "output_type": "stream",
     "text": [
      "alexnet\n",
      "alexscat\n",
      "43.35 96.602\n",
      "scatfirst\n",
      "42.16 92.902\n",
      "scatfirst2\n",
      "50.37 72.038\n",
      "scatfirst3\n",
      "48.99 58.558\n",
      "scatfirst4\n",
      "39.28 42.038\n"
     ]
    },
    {
     "name": "stderr",
     "output_type": "stream",
     "text": [
      "/usr/local/lib/python3.6/site-packages/ipykernel_launcher.py:7: UserWarning: loadtxt: Empty input file: \"alexnet/log.txt\"\n",
      "  import sys\n"
     ]
    }
   ],
   "source": [
    "results = {}\n",
    "for dirname in os.listdir('.'):\n",
    "    if ('net' in dirname or 'scat' in dirname) and not '.png' in dirname:\n",
    "        print(dirname)\n",
    "\n",
    "        try:\n",
    "            x = np.loadtxt(oj(dirname, 'log.txt'), skiprows=1)\n",
    "            trn = x[-1, -2]\n",
    "            val = x[-1, -1]\n",
    "            print(val, trn)\n",
    "            results[dirname] = (trn, val)\n",
    "        except:\n",
    "            pass\n",
    "results['alexnet'] = (95, 42)"
   ]
  },
  {
   "cell_type": "code",
   "execution_count": 61,
   "metadata": {},
   "outputs": [
    {
     "data": {
      "image/png": "[encoded data removed]",
      "text/plain": [
       "<matplotlib.figure.Figure at 0x10b073e48>"
      ]
     },
     "metadata": {},
     "output_type": "display_data"
    }
   ],
   "source": [
    "keys = sorted(list(results.keys()))\n",
    "vals = np.array([results[key] for key in keys])\n",
    "plt.figure(figsize=(8, 3))\n",
    "plt.subplot(121)\n",
    "sns.barplot(vals[:, 0], keys, orient='h')\n",
    "plt.title('train acc')\n",
    "plt.subplot(122)\n",
    "sns.barplot(vals[:, 1], keys, orient='h')\n",
    "plt.gca().get_yaxis().set_visible(False)\n",
    "plt.title('val acc')\n",
    "plt.savefig('cifar100_accs.pdf')\n",
    "plt.show()"
   ]
  },
  {
   "cell_type": "code",
   "execution_count": 38,
   "metadata": {},
   "outputs": [
    {
     "name": "stdout",
     "output_type": "stream",
     "text": [
      "['alexscat' 'scatfirst' 'scatfirst2' 'scatfirst3' 'scatfirst4']\n",
      "[ 43.35  42.16  50.37  48.99  39.28]\n"
     ]
    }
   ],
   "source": [
    "print(keys)\n",
    "print(vals[:, 0])"
   ]
  },
  {
   "cell_type": "code",
   "execution_count": null,
   "metadata": {},
   "outputs": [],
   "source": []
  }
 ],
 "metadata": {
  "kernelspec": {
   "display_name": "Python 3",
   "language": "python",
   "name": "python3"
  },
  "language_info": {
   "codemirror_mode": {
    "name": "ipython",
    "version": 3
   },
   "file_extension": ".py",
   "mimetype": "text/x-python",
   "name": "python",
   "nbconvert_exporter": "python",
   "pygments_lexer": "ipython3",
   "version": "3.6.2"
  }
 },
 "nbformat": 4,
 "nbformat_minor": 2
}
