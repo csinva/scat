{
 "cells": [
  {
   "cell_type": "markdown",
   "metadata": {},
   "source": [
    "# notebook to test scat transform"
   ]
  },
  {
   "cell_type": "code",
   "execution_count": 18,
   "metadata": {},
   "outputs": [
    {
     "name": "stdout",
     "output_type": "stream",
     "text": [
      "ims.shape before (5, 32, 32, 3)\n",
      "ims.shape after (5, 3, 32, 32)\n",
      "M 32 N 32\n",
      "ims.shape (5, 3, 32, 32)\n",
      "features_orig.shape (5, 27, 16, 16)\n"
     ]
    }
   ],
   "source": [
    "import tensorflow as tf\n",
    "import os, sys, time, subprocess, h5py, argparse, logging\n",
    "import numpy as np\n",
    "from os.path import join as oj\n",
    "from libs.scattering import scattering\n",
    "import matplotlib.pyplot as plt\n",
    "import matplotlib\n",
    "%matplotlib inline\n",
    "matplotlib.rcParams['figure.figsize'] = (10, 12)\n",
    "\n",
    "with h5py.File('data/cifar_100/train.h5') as f:\n",
    "    ims_orig = f['X'][0:5]\n",
    "\n",
    "print('ims.shape before', ims_orig.shape)\n",
    "ims = np.transpose(ims_orig, (0, 3, 1, 2))  # convert NHWC -> NCHW\n",
    "print('ims.shape after', ims.shape)\n",
    "im_shape = ims.shape[1:]\n",
    "\n",
    "\n",
    "# can only run on a gpu\n",
    "# requires NCHW format (cuDNN default - tf is NHWC)\n",
    "placeholder = tf.placeholder(tf.float32, (None,) + im_shape)\n",
    "# M, N: input image size\n",
    "M, N = placeholder.shape.as_list()[-2:]\n",
    "print(\"M\", M, \"N\", N)\n",
    "# J: number of layers\n",
    "scat = scattering.Scattering(M=M, N=N, J=1)(placeholder)\n",
    "M, N = scat.shape.as_list()[-2:]\n",
    "scat2 = scattering.Scattering(M=M, N=N, J=1)(scat)\n",
    "\n",
    "\n",
    "def extract_features(placeholder, model, ims):\n",
    "    print('ims.shape', ims.shape)\n",
    "    init = tf.global_variables_initializer()\n",
    "    sess = tf.Session()\n",
    "    sess.run(init)\n",
    "    t = time.time()\n",
    "    output = sess.run(model, feed_dict={placeholder: ims})\n",
    "    print('features_orig.shape', output.shape)\n",
    "    return output\n",
    "\n",
    "with tf.device(\"/cpu:0\"):\n",
    "    features_orig = extract_features(placeholder=placeholder, model=scat, ims=ims)"
   ]
  },
  {
   "cell_type": "code",
   "execution_count": 19,
   "metadata": {},
   "outputs": [
    {
     "name": "stdout",
     "output_type": "stream",
     "text": [
      "scat shape (5, 27, 16, 16)\n",
      "scat2 shape (5, 243, 8, 8)\n",
      "time_elapsed 0.3517129421234131\n",
      "new shapes (5, 16, 16, 27) (5, 8, 8, 243)\n"
     ]
    }
   ],
   "source": [
    "with tf.device(\"/cpu:0\"):\n",
    "    init = tf.global_variables_initializer()\n",
    "    sess = tf.Session()\n",
    "    sess.run(init)\n",
    "    t = time.time()\n",
    "    [scat, scat2] = sess.run([scat, scat2], feed_dict={placeholder: ims})\n",
    "    print('scat shape', scat.shape)\n",
    "    print('scat2 shape', scat2.shape)\n",
    "    print('time_elapsed', str(time.time() - t))\n",
    "# convert NCHW -> NHWC\n",
    "features_new = np.transpose(scat, (0, 2, 3, 1))\n",
    "features_new2 = np.transpose(scat2, (0, 2, 3, 1))\n",
    "print('new shapes', features_new.shape, features_new2.shape)"
   ]
  },
  {
   "cell_type": "code",
   "execution_count": 20,
   "metadata": {},
   "outputs": [
    {
     "name": "stdout",
     "output_type": "stream",
     "text": [
      "features_new.shape (5, 16, 16, 27)\n"
     ]
    },
    {
     "data": {
      "image/png": "[encoded data removed]",
      "text/plain": [
       "<matplotlib.figure.Figure at 0x114d7a518>"
      ]
     },
     "metadata": {},
     "output_type": "display_data"
    }
   ],
   "source": [
    "features_summed = np.sum(features_new, axis=3)\n",
    "features_summed2 = np.sum(features_new2, axis=3)\n",
    "print('features_new.shape', features_new.shape)\n",
    "ROWS = 4\n",
    "N = 3\n",
    "plt.subplot(ROWS,N,1)\n",
    "plt.imshow(ims_orig[0])\n",
    "plt.grid(False)\n",
    "plt.subplot(ROWS,N,2)\n",
    "plt.imshow(features_summed[0, :, :])\n",
    "plt.subplot(ROWS,N,3)\n",
    "plt.imshow(features_summed2[0, :, :])\n",
    "plt.show()"
   ]
  },
  {
   "cell_type": "code",
   "execution_count": null,
   "metadata": {},
   "outputs": [],
   "source": []
  }
 ],
 "metadata": {
  "kernelspec": {
   "display_name": "Python 3",
   "language": "python",
   "name": "python3"
  },
  "language_info": {
   "codemirror_mode": {
    "name": "ipython",
    "version": 3
   },
   "file_extension": ".py",
   "mimetype": "text/x-python",
   "name": "python",
   "nbconvert_exporter": "python",
   "pygments_lexer": "ipython3",
   "version": "3.6.2"
  }
 },
 "nbformat": 4,
 "nbformat_minor": 2
}
