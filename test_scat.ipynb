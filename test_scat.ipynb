{
 "cells": [
  {
   "cell_type": "markdown",
   "metadata": {},
   "source": [
    "# notebook to test scat transform"
   ]
  },
  {
   "cell_type": "code",
   "execution_count": 2,
   "metadata": {},
   "outputs": [
    {
     "name": "stdout",
     "output_type": "stream",
     "text": [
      "ims.shape before NCHW (2, 3, 32, 32)\n",
      "M 32 N 32 J 2\n",
      "scat.shape after NCHW (?, 243, 8, 8)\n"
     ]
    }
   ],
   "source": [
    "import tensorflow as tf\n",
    "import os, sys, time, subprocess, h5py, argparse, logging\n",
    "import numpy as np\n",
    "from os.path import join as oj\n",
    "from libs.scattering import scattering\n",
    "import matplotlib.pyplot as plt\n",
    "import matplotlib\n",
    "%matplotlib inline\n",
    "matplotlib.rcParams['figure.figsize'] = (10, 12)\n",
    "\n",
    "with h5py.File('data/cifar_100/train.h5') as f:\n",
    "    ims_orig = f['X'][0:2]\n",
    "\n",
    "ims = np.transpose(ims_orig, (0, 3, 1, 2))  # convert NHWC -> NCHW\n",
    "im_shape = ims.shape[1:]\n",
    "print('ims.shape before NCHW', ims.shape)\n",
    "\n",
    "# can only run on a gpu\n",
    "# requires NCHW format (cuDNN default - tf is NHWC)\n",
    "placeholder = tf.placeholder(tf.float32, (None,) + im_shape)\n",
    "# M, N: input image size\n",
    "M, N = placeholder.shape.as_list()[-2:]\n",
    "J = 2 # spatial scale of filter\n",
    "print(\"M\", M, \"N\", N, \"J\", J)\n",
    "scat = scattering.Scattering(M=M, N=N, J=J)(placeholder)\n",
    "print('scat.shape after NCHW', scat.shape)\n",
    "\n",
    "# M, N = scat.shape.as_list()[-2:]\n",
    "# scat2 = scattering.Scattering(M=M, N=N, J=J)\n",
    "# s = scattering.Scattering(M=M, N=N, J=J)\n",
    "# scat_filter = s.Psi[0][0]\n",
    "# scat_filter = s.Phi[0]"
   ]
  },
  {
   "cell_type": "code",
   "execution_count": 5,
   "metadata": {},
   "outputs": [
    {
     "name": "stdout",
     "output_type": "stream",
     "text": [
      "scat shape (?, 243, 8, 8)\n",
      "time_elapsed 1.0194981098175049\n",
      "new shapes (2, 8, 8, 243)\n"
     ]
    }
   ],
   "source": [
    "with tf.device(\"/cpu:0\"):\n",
    "    init = tf.global_variables_initializer()\n",
    "    sess = tf.Session()\n",
    "    sess.run(init)\n",
    "    t = time.time()\n",
    "    [scat_eval] = sess.run([scat], feed_dict={placeholder: ims})\n",
    "#     s_eval = sess.run(scat_filter)\n",
    "    print('scat shape', scat.shape)\n",
    "#     print('scat2 shape', scat2.shape)\n",
    "    print('time_elapsed', str(time.time() - t))\n",
    "# convert NCHW -> NHWC\n",
    "features_new = np.transpose(scat_eval, (0, 2, 3, 1))\n",
    "# features_new2 = np.transpose(scat2_eval, (0, 2, 3, 1))\n",
    "print('new shapes', features_new.shape) #, features_new2.shape)"
   ]
  },
  {
   "cell_type": "markdown",
   "metadata": {},
   "source": [
    "# visualize outputs (todo: visualize filters)"
   ]
  },
  {
   "cell_type": "code",
   "execution_count": 19,
   "metadata": {},
   "outputs": [
    {
     "name": "stdout",
     "output_type": "stream",
     "text": [
      "features_new.shape (2, 8, 8, 243)\n"
     ]
    },
    {
     "data": {
      "image/png": "[encoded data removed]",
      "text/plain": [
       "<matplotlib.figure.Figure at 0x133d51e10>"
      ]
     },
     "metadata": {},
     "output_type": "display_data"
    }
   ],
   "source": [
    "features_summed = np.sum(features_new, axis=3)\n",
    "# features_summed2 = np.sum(features_new2, axis=3)\n",
    "print('features_new.shape', features_new.shape)\n",
    "ROWS = 4\n",
    "N = 3\n",
    "plt.subplot(ROWS,N,1)\n",
    "plt.imshow(ims_orig[0])\n",
    "plt.grid(False)\n",
    "\n",
    "for j in range(ROWS*N - 1):\n",
    "    plt.subplot(ROWS, N, j+2)\n",
    "    plt.imshow(features_new[0, :, :, j])\n",
    "# plt.subplot(ROWS,N,3)\n",
    "# plt.imshow(features_new[0, :, :, 1])\n",
    "plt.show()"
   ]
  },
  {
   "cell_type": "markdown",
   "metadata": {},
   "source": [
    "# filter analysis (not working)"
   ]
  },
  {
   "cell_type": "code",
   "execution_count": 62,
   "metadata": {},
   "outputs": [
    {
     "name": "stdout",
     "output_type": "stream",
     "text": [
      "M 16 N 16 J 1\n"
     ]
    },
    {
     "ename": "AttributeError",
     "evalue": "'Tensor' object has no attribute 'Psi'",
     "output_type": "error",
     "traceback": [
      "\u001b[0;31m---------------------------------------------------------------------------\u001b[0m",
      "\u001b[0;31mAttributeError\u001b[0m                            Traceback (most recent call last)",
      "\u001b[0;32m<ipython-input-62-05f201b4680a>\u001b[0m in \u001b[0;36m<module>\u001b[0;34m()\u001b[0m\n\u001b[1;32m      1\u001b[0m \u001b[0mprint\u001b[0m\u001b[0;34m(\u001b[0m\u001b[0;34m\"M\"\u001b[0m\u001b[0;34m,\u001b[0m \u001b[0mM\u001b[0m\u001b[0;34m,\u001b[0m \u001b[0;34m\"N\"\u001b[0m\u001b[0;34m,\u001b[0m \u001b[0mN\u001b[0m\u001b[0;34m,\u001b[0m \u001b[0;34m\"J\"\u001b[0m\u001b[0;34m,\u001b[0m \u001b[0mJ\u001b[0m\u001b[0;34m)\u001b[0m\u001b[0;34m\u001b[0m\u001b[0m\n\u001b[1;32m      2\u001b[0m \u001b[0;31m# s = scattering.Scattering(M, N, J)\u001b[0m\u001b[0;34m\u001b[0m\u001b[0;34m\u001b[0m\u001b[0m\n\u001b[0;32m----> 3\u001b[0;31m \u001b[0mpsi\u001b[0m \u001b[0;34m=\u001b[0m \u001b[0mscat\u001b[0m\u001b[0;34m.\u001b[0m\u001b[0mPsi\u001b[0m\u001b[0;34m\u001b[0m\u001b[0m\n\u001b[0m\u001b[1;32m      4\u001b[0m \u001b[0mphi\u001b[0m \u001b[0;34m=\u001b[0m \u001b[0mscat\u001b[0m\u001b[0;34m.\u001b[0m\u001b[0mPhi\u001b[0m\u001b[0;34m\u001b[0m\u001b[0m\n",
      "\u001b[0;31mAttributeError\u001b[0m: 'Tensor' object has no attribute 'Psi'"
     ]
    }
   ],
   "source": [
    "print(\"M\", M, \"N\", N, \"J\", J)\n",
    "s = scattering.Scattering(M, N, J)\n",
    "psi = scat.Psi\n",
    "phi = scat.Phi"
   ]
  },
  {
   "cell_type": "code",
   "execution_count": 36,
   "metadata": {},
   "outputs": [
    {
     "data": {
      "text/plain": [
       "array(<tf.Tensor 'psi_theta0_j0_12:0' shape=(20, 20, 2) dtype=float32>, dtype=object)"
      ]
     },
     "execution_count": 36,
     "metadata": {},
     "output_type": "execute_result"
    }
   ],
   "source": [
    "np.array(psi[0][0])"
   ]
  },
  {
   "cell_type": "code",
   "execution_count": 48,
   "metadata": {},
   "outputs": [
    {
     "data": {
      "text/plain": [
       "<tf.Tensor 'psi_theta0_j0_23:0' shape=(20, 20, 2) dtype=float32>"
      ]
     },
     "execution_count": 48,
     "metadata": {},
     "output_type": "execute_result"
    }
   ],
   "source": [
    "scat_filters.Psi[0][0]"
   ]
  },
  {
   "cell_type": "code",
   "execution_count": 68,
   "metadata": {},
   "outputs": [
    {
     "data": {
      "text/plain": [
       "(20, 20, 2)"
      ]
     },
     "execution_count": 68,
     "metadata": {},
     "output_type": "execute_result"
    },
    {
     "data": {
      "image/png": "[encoded data removed]",
      "text/plain": [
       "<matplotlib.figure.Figure at 0x1389dddd8>"
      ]
     },
     "metadata": {},
     "output_type": "display_data"
    }
   ],
   "source": [
    "plt.imshow(s_eval[:, :, 1])\n",
    "s_eval.shape"
   ]
  },
  {
   "cell_type": "code",
   "execution_count": null,
   "metadata": {},
   "outputs": [],
   "source": []
  }
 ],
 "metadata": {
  "kernelspec": {
   "display_name": "Python 3",
   "language": "python",
   "name": "python3"
  },
  "language_info": {
   "codemirror_mode": {
    "name": "ipython",
    "version": 3
   },
   "file_extension": ".py",
   "mimetype": "text/x-python",
   "name": "python",
   "nbconvert_exporter": "python",
   "pygments_lexer": "ipython3",
   "version": "3.6.2"
  }
 },
 "nbformat": 4,
 "nbformat_minor": 2
}
