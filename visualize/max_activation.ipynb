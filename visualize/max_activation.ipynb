{
 "cells": [
  {
   "cell_type": "code",
   "execution_count": 1,
   "metadata": {},
   "outputs": [],
   "source": [
    "%load_ext autoreload\n",
    "%autoreload 2\n",
    "import tensorflow as tf\n",
    "import os, sys, time, subprocess, h5py, argparse, logging\n",
    "import numpy as np\n",
    "from os.path import join as oj\n",
    "sys.path.append('scat_tf')\n",
    "from scat_tf import scattering\n",
    "import matplotlib.pyplot as plt\n",
    "import matplotlib\n",
    "from tqdm import tqdm\n",
    "%matplotlib inline\n",
    "matplotlib.rcParams['figure.figsize'] = (6, 6)"
   ]
  },
  {
   "cell_type": "markdown",
   "metadata": {},
   "source": [
    "# make scat"
   ]
  },
  {
   "cell_type": "code",
   "execution_count": 100,
   "metadata": {},
   "outputs": [
    {
     "name": "stdout",
     "output_type": "stream",
     "text": [
      "J 2 L 8 M 32 N 32 input (1, 1, 32, 32) output (1, 81, 8, 8)\n",
      "expected num filts 81\n"
     ]
    }
   ],
   "source": [
    "J = 2 # spatial scale of filter\n",
    "L = 8 # number of angular orientations\n",
    "M, N = 32, 32 # dimensions\n",
    "scat = scattering.Scattering(M=M, N=N, J=J, L=L) \n",
    "\n",
    "# make scat_comp\n",
    "num_channels = 1 # grayscale or color input\n",
    "placeholder = tf.placeholder(tf.float32, (1, num_channels, M, N)) # requires NCHW format (cuDNN default - tf is NHWC)\n",
    "scat_comp = scat(placeholder)\n",
    "print(\"J\", J, \"L\", L, \"M\", M, \"N\", N, 'input', placeholder.shape, 'output', scat_comp.shape)\n",
    "print('expected num filts', int(num_channels * (1 + J* L + J * (J-1) * L * L /2)))"
   ]
  },
  {
   "cell_type": "markdown",
   "metadata": {},
   "source": [
    "# max activation"
   ]
  },
  {
   "cell_type": "code",
   "execution_count": 101,
   "metadata": {},
   "outputs": [],
   "source": [
    "def visstd(a, s=0.1): # normalize the image range\n",
    "    return s * (a - a.mean()) / max(a.std(), 1e-4) + 0.5\n",
    "\n",
    "def get_filt(scat_comp, placeholder, filt_num, step = 250, step_decay = 1, num_iters = 40):\n",
    "    # set up tf vars\n",
    "    t_score = tf.reduce_mean(scat_comp[0, filt_num, 4, 4]) # objective\n",
    "    t_grad = tf.gradients(t_score, placeholder)[0]         # gradient\n",
    "    im_noise = np.random.uniform(size=(M, N, num_channels)) * 0.01\n",
    "    im_tf = np.expand_dims(np.transpose(im_noise, (2, 0, 1)), 0)\n",
    "#     print('shapes', im_noise.shape, im_tf.shape, im_noise.dtype)\n",
    "\n",
    "    # maximally activate\n",
    "    for i in range(num_iters):\n",
    "        g, score = sess.run([t_grad, t_score], {placeholder: im_tf})\n",
    "#         g /= g.std() + 1e-8 # normalizing the gradient, so the same step size should work for different things        \n",
    "        im_tf += g * step\n",
    "        step *= step_decay\n",
    "#         if i % 10 == 0:\n",
    "    im_out = np.transpose(np.array(im_tf)[0, 0], (1, 0)) # get np array MxN\n",
    "#             show(im_out)\n",
    "#             plt.show()\n",
    "    return visstd(im_out)"
   ]
  },
  {
   "cell_type": "code",
   "execution_count": 49,
   "metadata": {},
   "outputs": [],
   "source": [
    "# initialize\n",
    "init = tf.global_variables_initializer()\n",
    "sess = tf.Session()\n",
    "sess.run(init)\n",
    "def show(x):\n",
    "    plt.imshow(x, interpolation='None', cmap='gray')\n",
    "    plt.axis('off')"
   ]
  },
  {
   "cell_type": "code",
   "execution_count": null,
   "metadata": {
    "scrolled": false
   },
   "outputs": [
    {
     "name": "stderr",
     "output_type": "stream",
     "text": [
      "\r",
      "  0%|          | 0/81 [00:00<?, ?it/s]"
     ]
    },
    {
     "name": "stdout",
     "output_type": "stream",
     "text": [
      "shapes (32, 32, 1) (1, 1, 32, 32) float64\n"
     ]
    },
    {
     "name": "stderr",
     "output_type": "stream",
     "text": [
      "\r",
      "  1%|          | 1/81 [00:39<53:00, 39.75s/it]"
     ]
    },
    {
     "name": "stdout",
     "output_type": "stream",
     "text": [
      "shapes (32, 32, 1) (1, 1, 32, 32) float64\n"
     ]
    },
    {
     "name": "stderr",
     "output_type": "stream",
     "text": [
      "\r",
      "  2%|▏         | 2/81 [01:19<52:18, 39.72s/it]"
     ]
    },
    {
     "name": "stdout",
     "output_type": "stream",
     "text": [
      "shapes (32, 32, 1) (1, 1, 32, 32) float64\n"
     ]
    },
    {
     "name": "stderr",
     "output_type": "stream",
     "text": [
      "\r",
      "  4%|▎         | 3/81 [01:59<51:44, 39.80s/it]"
     ]
    }
   ],
   "source": [
    "# get filts\n",
    "num_filts = int(scat_comp.shape[1])\n",
    "filts = np.empty(shape=(num_filts, M, N)) # divide by number of colors\n",
    "# with tf.device(\"/cpu:0\"):\n",
    "# for filt_num in tqdm(range(num_filts)):\n",
    "for filt_num in tqdm(range(num_filts)):\n",
    "    filts[filt_num] = get_filt(scat_comp, placeholder, filt_num)\n",
    "#     show(filts[filt_num])\n",
    "#     plt.show()\n",
    "    \n",
    "# save filts\n",
    "out_file = '/scratch/users/vision/chandan/out/scat/' + '_'.join(['filts', 'J='+str(J), 'L='+str(L), \n",
    "                                                                'M='+str(M), 'N='+str(N)])\n",
    "np.save(out_file, filts)"
   ]
  },
  {
   "cell_type": "code",
   "execution_count": 83,
   "metadata": {},
   "outputs": [
    {
     "data": {
      "image/png": "[encoded data removed]",
      "text/plain": [
       "<Figure size 864x360 with 9 Axes>"
      ]
     },
     "metadata": {},
     "output_type": "display_data"
    }
   ],
   "source": [
    "# show filts\n",
    "plt.figure(figsize=(12, 5))\n",
    "num_cols = 8\n",
    "num_rows = int(num_filts / num_cols)\n",
    "\n",
    "for filt_num in range(num_filts):\n",
    "    plt.subplot(num_rows, num_cols, filt_num + 1)\n",
    "    show(filts[filt_num])\n",
    "plt.show()"
   ]
  },
  {
   "cell_type": "code",
   "execution_count": null,
   "metadata": {},
   "outputs": [],
   "source": []
  }
 ],
 "metadata": {
  "anaconda-cloud": {},
  "kernelspec": {
   "display_name": "Python 3",
   "language": "python",
   "name": "python3"
  },
  "language_info": {
   "codemirror_mode": {
    "name": "ipython",
    "version": 3
   },
   "file_extension": ".py",
   "mimetype": "text/x-python",
   "name": "python",
   "nbconvert_exporter": "python",
   "pygments_lexer": "ipython3",
   "version": "3.5.4"
  }
 },
 "nbformat": 4,
 "nbformat_minor": 2
}
