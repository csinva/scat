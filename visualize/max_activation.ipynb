{
 "cells": [
  {
   "cell_type": "code",
   "execution_count": 1,
   "metadata": {},
   "outputs": [],
   "source": [
    "%load_ext autoreload\n",
    "%autoreload 2\n",
    "import tensorflow as tf\n",
    "import os, sys, time, subprocess, h5py, argparse, logging\n",
    "import numpy as np\n",
    "from os.path import join as oj\n",
    "sys.path.append('scat_tf')\n",
    "from scat_tf import scattering\n",
    "import matplotlib.pyplot as plt\n",
    "import matplotlib\n",
    "from tqdm import tqdm\n",
    "%matplotlib inline\n",
    "matplotlib.rcParams['figure.figsize'] = (6, 6)"
   ]
  },
  {
   "cell_type": "markdown",
   "metadata": {},
   "source": [
    "# make scat"
   ]
  },
  {
   "cell_type": "code",
   "execution_count": 2,
   "metadata": {},
   "outputs": [
    {
     "name": "stdout",
     "output_type": "stream",
     "text": [
      "M 32 N 32 J 2 input (1, 3, 32, 32) output (1, 27, 8, 8)\n"
     ]
    }
   ],
   "source": [
    "# requires NCHW format (cuDNN default - tf is NHWC)\n",
    "M, N = 32, 32\n",
    "J = 2 # spatial scale of filter\n",
    "L = 2 # number of angular orientations\n",
    "scat = scattering.Scattering(M=M, N=N, J=J, L=L)\n",
    "\n",
    "# make scat_comp\n",
    "placeholder = tf.placeholder(tf.float32, (1, 3, 32, 32))\n",
    "scat_comp = scat(placeholder)\n",
    "print(\"M\", M, \"N\", N, \"J\", J, 'input', placeholder.shape, 'output', scat_comp.shape)"
   ]
  },
  {
   "cell_type": "markdown",
   "metadata": {},
   "source": [
    "# max activation"
   ]
  },
  {
   "cell_type": "code",
   "execution_count": 3,
   "metadata": {},
   "outputs": [],
   "source": [
    "def visstd(a, s=0.1): # normalize the image range\n",
    "    return s * (a - a.mean()) / max(a.std(), 1e-4) + 0.5\n",
    "\n",
    "def get_filt(scat_comp, placeholder, filt_num, step = 1.5, step_decay = 0.98, num_iters = 75):\n",
    "    # set up tf vars\n",
    "    t_score = tf.reduce_mean(scat_comp[0, filt_num, :, :]) # defining the optimization objective\n",
    "    t_grad = tf.gradients(t_score, placeholder)[0] # behold the power of automatic differentiation!\n",
    "    im_noise = np.random.uniform(size=(32, 32, 3))\n",
    "    im_tf = np.expand_dims(np.transpose(im_noise, (2, 0, 1)), 0)\n",
    "\n",
    "    # maximally activate\n",
    "    for i in range(num_iters):\n",
    "        g, score = sess.run([t_grad, t_score], {placeholder: im_tf})\n",
    "        g /= g.std() + 1e-8 # normalizing the gradient, so the same step size should work for different things        \n",
    "        im_tf += g * step\n",
    "        step *= step_decay\n",
    "            \n",
    "    im_out = np.transpose(np.array(im_tf)[0], (1, 2, 0))[:, :, 0] # get np array (only red channel)\n",
    "    return visstd(im_out)"
   ]
  },
  {
   "cell_type": "code",
   "execution_count": 4,
   "metadata": {
    "scrolled": false
   },
   "outputs": [
    {
     "name": "stdout",
     "output_type": "stream",
     "text": [
      "9\n"
     ]
    },
    {
     "name": "stderr",
     "output_type": "stream",
     "text": [
      "100%|██████████| 75/75 [00:03<00:00, 18.97it/s]\n",
      "100%|██████████| 75/75 [00:04<00:00, 20.83it/s]\n",
      "100%|██████████| 75/75 [00:04<00:00, 17.70it/s]\n",
      "100%|██████████| 75/75 [00:04<00:00, 17.69it/s]\n",
      "100%|██████████| 75/75 [00:04<00:00, 20.56it/s]\n",
      "100%|██████████| 75/75 [00:04<00:00, 16.69it/s]\n",
      "100%|██████████| 75/75 [00:04<00:00, 16.35it/s]\n",
      "100%|██████████| 75/75 [00:04<00:00, 20.35it/s]\n",
      "100%|██████████| 75/75 [00:04<00:00, 15.86it/s]\n"
     ]
    }
   ],
   "source": [
    "# initialize\n",
    "init = tf.global_variables_initializer()\n",
    "sess = tf.Session()\n",
    "sess.run(init)\n",
    "\n",
    "# get filts\n",
    "num_filts = int(scat_comp.shape[1]) // 3\n",
    "filts = np.empty(shape=(num_filts, 32, 32)) # divide by number of colors\n",
    "# with tf.device(\"/cpu:0\"):\n",
    "for filt_num in tqdm(range(num_filts)):\n",
    "    filts[filt_num] = get_filt(scat_comp, placeholder, filt_num)\n",
    "    \n",
    "# save filts\n",
    "out_file = '/scratch/users/vision/chandan/out/scat/' + '_'.join('filts', 'J='+str(J), 'L='+str(L), \n",
    "                                                                'M='+str(M), 'N='+str(N))\n",
    "np.save(filts, out_file)"
   ]
  },
  {
   "cell_type": "code",
   "execution_count": 10,
   "metadata": {},
   "outputs": [
    {
     "data": {
      "image/png": "[encoded data removed]",
      "text/plain": [
       "<Figure size 864x360 with 9 Axes>"
      ]
     },
     "metadata": {},
     "output_type": "display_data"
    }
   ],
   "source": [
    "def show(x):\n",
    "    plt.imshow(x, interpolation='None', cmap='gray')\n",
    "    plt.axis('off')\n",
    "    \n",
    "# show filts\n",
    "plt.figure(figsize=(12, 5))\n",
    "for filt_num in range(num_filts):\n",
    "    plt.subplot(1, num_filts, filt_num + 1)\n",
    "    show(filts[filt_num])\n",
    "plt.show()"
   ]
  }
 ],
 "metadata": {
  "anaconda-cloud": {},
  "kernelspec": {
   "display_name": "Python 3",
   "language": "python",
   "name": "python3"
  },
  "language_info": {
   "codemirror_mode": {
    "name": "ipython",
    "version": 3
   },
   "file_extension": ".py",
   "mimetype": "text/x-python",
   "name": "python",
   "nbconvert_exporter": "python",
   "pygments_lexer": "ipython3",
   "version": "3.5.4"
  }
 },
 "nbformat": 4,
 "nbformat_minor": 2
}
