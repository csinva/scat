{
 "cells": [
  {
   "cell_type": "markdown",
   "metadata": {},
   "source": [
    "# notebook to test scat transform"
   ]
  },
  {
   "cell_type": "code",
   "execution_count": 1,
   "metadata": {},
   "outputs": [],
   "source": [
    "import tensorflow as tf\n",
    "import os, sys, time, subprocess, h5py, argparse, logging\n",
    "import numpy as np\n",
    "from os.path import join as oj\n",
    "sys.path.append('scat_tf')\n",
    "from scat_tf import scattering\n",
    "import matplotlib.pyplot as plt\n",
    "import matplotlib\n",
    "from tqdm import tqdm\n",
    "%matplotlib inline\n",
    "matplotlib.rcParams['figure.figsize'] = (6, 6)"
   ]
  },
  {
   "cell_type": "markdown",
   "metadata": {},
   "source": [
    "# make scat"
   ]
  },
  {
   "cell_type": "code",
   "execution_count": 2,
   "metadata": {},
   "outputs": [
    {
     "name": "stdout",
     "output_type": "stream",
     "text": [
      "M 32 N 32 J 2 input (1, 3, 32, 32) output (1, 243, 8, 8)\n"
     ]
    }
   ],
   "source": [
    "# requires NCHW format (cuDNN default - tf is NHWC)\n",
    "M, N = 32, 32\n",
    "J = 2 # spatial scale of filter\n",
    "scat = scattering.Scattering(M=M, N=N, J=J)\n",
    "\n",
    "# make scat_comp\n",
    "placeholder = tf.placeholder(tf.float32, (1, 3, 32, 32))\n",
    "scat_comp = scat(placeholder)\n",
    "print(\"M\", M, \"N\", N, \"J\", J, 'input', placeholder.shape, 'output', scat_comp.shape)"
   ]
  },
  {
   "cell_type": "markdown",
   "metadata": {},
   "source": [
    "# max activation"
   ]
  },
  {
   "cell_type": "code",
   "execution_count": 3,
   "metadata": {},
   "outputs": [],
   "source": [
    "def visstd(a, s=0.1): # normalize the image range\n",
    "    return s * (a - a.mean()) / max(a.std(), 1e-4) + 0.5\n",
    "\n",
    "def get_filt(scat_comp, placeholder, filt_num, step = 1.5, step_decay = 0.98, num_iters = 75):\n",
    "    # set up tf vars\n",
    "    t_score = tf.reduce_mean(scat_comp[0, filt_num, :, :]) # defining the optimization objective\n",
    "    t_grad = tf.gradients(t_score, placeholder)[0] # behold the power of automatic differentiation!\n",
    "    im_noise = np.random.uniform(size=(32, 32, 3))\n",
    "    im_tf = np.expand_dims(np.transpose(im_noise, (2, 0, 1)), 0)\n",
    "\n",
    "    # maximally activate\n",
    "    for i in tqdm(range(num_iters)):\n",
    "        g, score = sess.run([t_grad, t_score], {placeholder: im_tf})\n",
    "        g /= g.std() + 1e-8 # normalizing the gradient, so the same step size should work for different things        \n",
    "        im_tf += g * step\n",
    "        step *= step_decay\n",
    "            \n",
    "    im_out = np.transpose(np.array(im_tf)[0], (1, 2, 0))[:, :, 0] # get np array (only red channel)\n",
    "    return visstd(im_out)"
   ]
  },
  {
   "cell_type": "code",
   "execution_count": null,
   "metadata": {
    "scrolled": false
   },
   "outputs": [
    {
     "name": "stdout",
     "output_type": "stream",
     "text": [
      "81\n"
     ]
    }
   ],
   "source": [
    "# initialize\n",
    "init = tf.global_variables_initializer()\n",
    "sess = tf.Session()\n",
    "sess.run(init)\n",
    "\n",
    "# get filts\n",
    "num_filts = int(scat_comp.shape[1]) // 3\n",
    "print(num_filts)\n",
    "filts = np.empty(shape=(num_filts, 32, 32)) # divide by number of colors\n",
    "# with tf.device(\"/cpu:0\"):\n",
    "for filt_num in range(num_filts):\n",
    "    filts[filt_num] = get_filt(scat_comp, placeholder, filt_num)"
   ]
  },
  {
   "cell_type": "code",
   "execution_count": 6,
   "metadata": {},
   "outputs": [
    {
     "data": {
      "text/plain": [
       "<matplotlib.image.AxesImage at 0x7f42133b0b38>"
      ]
     },
     "execution_count": 6,
     "metadata": {},
     "output_type": "execute_result"
    },
    {
     "data": {
      "image/png": "[encoded data removed]",
      "text/plain": [
       "<Figure size 432x288 with 1 Axes>"
      ]
     },
     "metadata": {},
     "output_type": "display_data"
    }
   ],
   "source": [
    "plt.imshow(filts[0], interpolation='None', cmap='gray')\n",
    "plt.show()"
   ]
  },
  {
   "cell_type": "code",
   "execution_count": null,
   "metadata": {},
   "outputs": [],
   "source": []
  }
 ],
 "metadata": {
  "anaconda-cloud": {},
  "kernelspec": {
   "display_name": "Python 3",
   "language": "python",
   "name": "python3"
  }
 },
 "nbformat": 4,
 "nbformat_minor": 2
}
